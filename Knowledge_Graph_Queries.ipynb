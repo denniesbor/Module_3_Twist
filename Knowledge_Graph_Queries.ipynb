{
  "cells": [
    {
      "cell_type": "markdown",
      "metadata": {
        "id": "view-in-github",
        "colab_type": "text"
      },
      "source": [
        "<a href=\"https://colab.research.google.com/github/denniesbor/Module_3_Twist/blob/development/Knowledge_Graph_Queries.ipynb\" target=\"_parent\"><img src=\"https://colab.research.google.com/assets/colab-badge.svg\" alt=\"Open In Colab\"/></a>"
      ]
    },
    {
      "cell_type": "markdown",
      "metadata": {
        "id": "Zp1fni_UMmId"
      },
      "source": [
        "# Requirements"
      ]
    },
    {
      "cell_type": "code",
      "execution_count": null,
      "metadata": {
        "id": "TEu_L7aVMmIj"
      },
      "outputs": [],
      "source": [
        "!pip install --user gdelt"
      ]
    },
    {
      "cell_type": "markdown",
      "metadata": {
        "id": "rXNEshGzMmIl"
      },
      "source": [
        "# Import modules"
      ]
    },
    {
      "cell_type": "code",
      "execution_count": 66,
      "metadata": {
        "id": "wWkmh78JMmIm"
      },
      "outputs": [],
      "source": [
        "from datetime import date, timedelta\n",
        "from gdelt import gdelt as gdelt_client\n",
        "import matplotlib.pyplot as plot\n",
        "import pandas as pd\n",
        "import re\n",
        "import os\n",
        "import seaborn\n",
        "import tempfile\n",
        "import warnings\n",
        "warnings.filterwarnings('ignore')"
      ]
    },
    {
      "cell_type": "markdown",
      "metadata": {
        "id": "d7-aT7jZMmIo"
      },
      "source": [
        "# Query the knowledge graph\n",
        "Use coverage option for querying all daily records. Otherwise records collected from the last 15 minutes are returned.\n",
        "Use the date option to filter by date."
      ]
    },
    {
      "cell_type": "code",
      "execution_count": 67,
      "metadata": {
        "id": "QvIXv7RXMmIo"
      },
      "outputs": [],
      "source": [
        "def get_graph(date, coverage=False):\n",
        "    client = gdelt_client(version=2)\n",
        "    graph = client.Search(\"2020-05-10\", table=\"gkg\", coverage=coverage)\n",
        "    graph = graph.astype({\"DATE\": str})\n",
        "    graph[\"DATE\"] = graph[\"DATE\"].apply(lambda dateStr: dateStr[:14])\n",
        "    del client\n",
        "    return graph\n",
        "\n",
        "def get_graph_range(from_date, to_date, coverage=False):\n",
        "    date_range = to_date-from_date\n",
        "    if date_range.days < 1:\n",
        "        return\n",
        "    client = gdelt_client(version=2)\n",
        "    graph = None\n",
        "    for day in range(0, date_range.days + 1):\n",
        "        date = from_date + timedelta(days=day)\n",
        "        try:\n",
        "          graph_temp = client.Search(date.strftime(\"%Y %m %d\"), table=\"gkg\", coverage=coverage)\n",
        "        except:\n",
        "          continue\n",
        "        graph_temp = graph_temp.astype({\"DATE\": str})\n",
        "        graph_temp[\"DATE\"] = graph_temp[\"DATE\"].apply(lambda dateStr: dateStr[:14])\n",
        "        if graph is None:\n",
        "          graph = graph_temp\n",
        "          if(graph.shape[1] > 2000000):\n",
        "            break\n",
        "        else:\n",
        "            graph = pandas.concat([graph, graph_temp], axis=0)\n",
        "    del client\n",
        "    return graph\n",
        "\n",
        "def get_today_graph(coverage=False):\n",
        "    return get_graph(date.today(), coverage)\n",
        "\n",
        "def get_yesterday_graph(coverage=False):\n",
        "    return get_graph(date.today()-timedelta(days=1), coverage)"
      ]
    },
    {
      "cell_type": "code",
      "execution_count": null,
      "metadata": {
        "id": "PEzD57MiMmIq"
      },
      "outputs": [],
      "source": [
        "days=0\n",
        "for i in range(10):\n",
        "  end_date = date.today()-timedelta(days=days)\n",
        "  start_date = end_date-timedelta(days=days+300)\n",
        "  graph = get_graph_range(start_date, end_date, coverage=False)\n",
        "  graph.to_csv(f'/content/drive/MyDrive/Module3/twist/twist_{i}.csv', index=False)\n",
        "  days+=300\n",
        "  report_date = end_date"
      ]
    },
    {
      "cell_type": "markdown",
      "source": [
        "Text cleaning"
      ],
      "metadata": {
        "id": "AER88w21B35c"
      }
    },
    {
      "cell_type": "markdown",
      "metadata": {
        "id": "iGwyuBFwMmIt"
      },
      "source": [
        "# Location type exploding and filtering"
      ]
    },
    {
      "cell_type": "code",
      "execution_count": 4,
      "metadata": {
        "id": "NabNfvkBMmIt"
      },
      "outputs": [],
      "source": [
        "from enum import Enum\n",
        "\n",
        "class location_type(Enum):\n",
        "    \"\"\"Location type\n",
        "        Defines the different location types.\n",
        "    \"\"\"\n",
        "    UNKNOWN = 0\n",
        "    COUNTRY = 1\n",
        "    USSTATE = 2\n",
        "    USCITY = 3\n",
        "    WORLDCITY = 4\n",
        "    WORLDSTATE = 5\n",
        "\n",
        "class gdelt_location:\n",
        "    \"\"\"GDELT location\n",
        "        Defines a GDELT location.\n",
        "    \"\"\"\n",
        "    def __init__(self, location_typeid=0, name=None, country_code=None, admin1_code=None, lat=None, lon=None, feature_id=None):        \n",
        "        self.location_type = location_type(int(location_typeid))\n",
        "        self.location_name = name\n",
        "        self.country_code = country_code\n",
        "        self.admin1_code = admin1_code\n",
        "        self.location_lat = lat\n",
        "        self.location_lon = lon\n",
        "        self.feature_id = feature_id\n",
        "        \n",
        "    def has_location_type(self, location_type):\n",
        "        return location_type == self.location_type\n",
        "    \n",
        "    def location_type_matches(self, location_types):\n",
        "        return self.location_type in location_types\n",
        "    \n",
        "    def __str__(self):\n",
        "        return self.location_name\n",
        "    \n",
        "class location_filter():\n",
        "    \"\"\"Location Filter\n",
        "        Defines different filters which can be applied on the dataframes.\n",
        "    \"\"\"\n",
        "    def filter_by_type(self, gkg_dataframe, location_type):\n",
        "        return gkg_dataframe.loc[gkg_dataframe.apply(lambda record: record[\"GDELT_Locations\"].has_location_type(location_type), axis=1)]\n",
        "    \n",
        "    def filter_by_types(self, gkg_dataframe, location_types):\n",
        "        return gkg_dataframe.loc[gkg_dataframe.apply(lambda record: record[\"GDELT_Locations\"].location_type_matches(location_types), axis=1)]\n",
        "\n",
        "def split_location_entries(locations):\n",
        "    return [gdelt_location(*location) if 7 == len(location) else gdelt_location() for location in locations]\n",
        "\n",
        "def split_locations(record):\n",
        "    return split_location_entries([location.split(\"#\") for location in str(record[\"Locations\"]).split(\";\")])\n"
      ]
    },
    {
      "cell_type": "markdown",
      "metadata": {
        "id": "tGgzBqQ-MmIv"
      },
      "source": [
        "# Filter the locations by location type & Extract the coordinates and the name from the GDELT location\n",
        "- We are exploding the records using the locations column\n",
        "- We are filtering by using the location type (e.g. return only cities)"
      ]
    },
    {
      "cell_type": "code",
      "source": [
        "files = [file for file in os.listdir('/content/drive/MyDrive/Module3/twist') if file.endswith(r'.csv') and file!='twist.csv']"
      ],
      "metadata": {
        "id": "MtG4k4rvlAts"
      },
      "execution_count": 59,
      "outputs": []
    },
    {
      "cell_type": "code",
      "execution_count": 62,
      "metadata": {
        "id": "L6LzggfIMmIw"
      },
      "outputs": [],
      "source": [
        "dfs = []\n",
        "for file in files:\n",
        "  df_test=pd.read_csv(f\"/content/drive/MyDrive/Module3/twist/{file}\", chunksize=100000, on_bad_lines='skip')\n",
        "  for df in df_test:\n",
        "    df_records = df[(df['V2Themes'].str.contains(r'health|disease\\w*|covid|gene$|genetic\\w*', flags=re.IGNORECASE, regex=True, na=False)\\\n",
        "      | df['Themes'].str.contains(r'health|disease\\w*|covid|gene$|genetic\\w*', flags=re.IGNORECASE, regex=True, na=False))]\n",
        "    df_records['Sentiment'] = df_records['V2Tone'].apply(lambda x: float(x.split(',')[0])).round(decimals=2)\n",
        "    df_records['Polarity'] = df_records['V2Tone'].apply(lambda x: float(x.split(',')[3])).round(decimals=2)\n",
        "\n",
        "    df_locations = df_records.copy(deep=True)\n",
        "    if df_locations.empty:\n",
        "        df_locations[\"GDELT_Locations\"] = []\n",
        "        df_filtered_locations = df_locations\n",
        "    else:\n",
        "        df_locations[\"GDELT_Locations\"] = df_records.apply(lambda record: split_locations(record), axis=1)\n",
        "        df_locations_exploded = df_locations.explode(\"GDELT_Locations\")\n",
        "\n",
        "        filter = location_filter()\n",
        "        df_filtered_locations = filter.filter_by_types(df_locations_exploded, [location_type.WORLDCITY, location_type.USCITY])\n",
        "    df_filtered_locations[\"Location_Name\"] = df_filtered_locations.apply(lambda record: record[\"GDELT_Locations\"].location_name, axis=1)\n",
        "    df_filtered_locations[\"Location_Lat\"] = df_filtered_locations.apply(lambda record: record[\"GDELT_Locations\"].location_lat, axis=1)\n",
        "    df_filtered_locations[\"Location_Lon\"] = df_filtered_locations.apply(lambda record: record[\"GDELT_Locations\"].location_lon, axis=1)\n",
        "    df_filtered_locations = df_filtered_locations[df_filtered_locations['Location_Name'].str.contains(r'Kenya', flags=re.IGNORECASE, regex=True, na=False)]\n",
        "    # print(df_filtered_locations.iloc[0][\"Location_Name\"])\n",
        "    point_locations = df_filtered_locations[[\"GKGRECORDID\", \"DATE\",\"SourceCommonName\",\"DocumentIdentifier\",\"Sentiment\", \"Polarity\",\"Extras\"]].copy(deep=True)\n",
        "\n",
        "    del df_locations_exploded\n",
        "    del df_locations\n",
        "    del df_records\n",
        "    del df\n",
        "    del df_filtered_locations\n",
        "    dfs.append(point_locations)\n",
        "\n",
        "# del graph"
      ]
    },
    {
      "cell_type": "code",
      "source": [
        "df_final = pd.concat(dfs)\n",
        "# save the dfs\n",
        "# df_final[[\"GKGRECORDID\", \"DATE\",\"SourceCommonName\",\"DocumentIdentifier\",\"Sentiment\", \"Polarity\",\"Extras\"]].to_csv('/content/drive/MyDrive/Module3/twist/final.csv', index=False)"
      ],
      "metadata": {
        "id": "bKWA6mYYrdEQ"
      },
      "execution_count": 97,
      "outputs": []
    },
    {
      "cell_type": "code",
      "source": [
        "df = df_final.copy(deep=True)"
      ],
      "metadata": {
        "id": "MTx3g3h8-uk9"
      },
      "execution_count": 98,
      "outputs": []
    },
    {
      "cell_type": "code",
      "source": [
        "# drop duplicates\n",
        "df.drop_duplicates(inplace=True)"
      ],
      "metadata": {
        "id": "jU_TQo3ILTkg"
      },
      "execution_count": 99,
      "outputs": []
    },
    {
      "cell_type": "code",
      "source": [
        "df = df[df['GKGRECORDID'].str.contains(r'^2020\\d+', regex=True, flags=re.IGNORECASE, na=False)]"
      ],
      "metadata": {
        "id": "Rz4xxlOZMARV"
      },
      "execution_count": 100,
      "outputs": []
    },
    {
      "cell_type": "code",
      "source": [
        "text = df['GKGRECORDID'].iloc[0]"
      ],
      "metadata": {
        "colab": {
          "base_uri": "https://localhost:8080/",
          "height": 206
        },
        "id": "zWoPL0dhM-Tn",
        "outputId": "d3ab4de6-b76e-4b7d-95e8-edf6be133274"
      },
      "execution_count": 101,
      "outputs": [
        {
          "output_type": "execute_result",
          "data": {
            "text/plain": [
              "              GKGRECORDID          DATE     SourceCommonName  \\\n",
              "455    20200206234500-455  2.020021e+13   businessinsider.sg   \n",
              "1249  20200206234500-1249  2.020021e+13  standardmedia.co.ke   \n",
              "3233   20200207234500-882  2.020021e+13  standardmedia.co.ke   \n",
              "3452  20200207234500-1101  2.020021e+13       africanews.com   \n",
              "5079   20200209234500-870  2.020021e+13  montrealgazette.com   \n",
              "\n",
              "                                     DocumentIdentifier  Sentiment  Polarity  \\\n",
              "455   https://www.businessinsider.sg/desert-locust-p...      -4.54      5.87   \n",
              "1249  https://www.standardmedia.co.ke/article/200135...       2.95      6.49   \n",
              "3233  https://www.standardmedia.co.ke/article/200135...      -4.01      8.02   \n",
              "3452  http://www.africanews.com/2020/02/07/education...       0.74      7.36   \n",
              "5079  https://montrealgazette.com/news/national/seco...      -1.20      5.39   \n",
              "\n",
              "                                                 Extras  \n",
              "455   <PAGE_LINKS>http://www.fao.org/ag/locusts/en/a...  \n",
              "1249  <PAGE_LINKS>https://newsstand.standardmedia.co...  \n",
              "3233  <PAGE_LINKS>https://newsstand.standardmedia.co...  \n",
              "3452  <PAGE_AUTHORS>AfricaNews</PAGE_AUTHORS><PAGE_T...  \n",
              "5079  <PAGE_ALTURL_AMP>https://montrealgazette.com/n...  "
            ],
            "text/html": [
              "\n",
              "  <div id=\"df-ddd73013-1476-4db3-957c-3950154d5951\">\n",
              "    <div class=\"colab-df-container\">\n",
              "      <div>\n",
              "<style scoped>\n",
              "    .dataframe tbody tr th:only-of-type {\n",
              "        vertical-align: middle;\n",
              "    }\n",
              "\n",
              "    .dataframe tbody tr th {\n",
              "        vertical-align: top;\n",
              "    }\n",
              "\n",
              "    .dataframe thead th {\n",
              "        text-align: right;\n",
              "    }\n",
              "</style>\n",
              "<table border=\"1\" class=\"dataframe\">\n",
              "  <thead>\n",
              "    <tr style=\"text-align: right;\">\n",
              "      <th></th>\n",
              "      <th>GKGRECORDID</th>\n",
              "      <th>DATE</th>\n",
              "      <th>SourceCommonName</th>\n",
              "      <th>DocumentIdentifier</th>\n",
              "      <th>Sentiment</th>\n",
              "      <th>Polarity</th>\n",
              "      <th>Extras</th>\n",
              "    </tr>\n",
              "  </thead>\n",
              "  <tbody>\n",
              "    <tr>\n",
              "      <th>455</th>\n",
              "      <td>20200206234500-455</td>\n",
              "      <td>2.020021e+13</td>\n",
              "      <td>businessinsider.sg</td>\n",
              "      <td>https://www.businessinsider.sg/desert-locust-p...</td>\n",
              "      <td>-4.54</td>\n",
              "      <td>5.87</td>\n",
              "      <td>&lt;PAGE_LINKS&gt;http://www.fao.org/ag/locusts/en/a...</td>\n",
              "    </tr>\n",
              "    <tr>\n",
              "      <th>1249</th>\n",
              "      <td>20200206234500-1249</td>\n",
              "      <td>2.020021e+13</td>\n",
              "      <td>standardmedia.co.ke</td>\n",
              "      <td>https://www.standardmedia.co.ke/article/200135...</td>\n",
              "      <td>2.95</td>\n",
              "      <td>6.49</td>\n",
              "      <td>&lt;PAGE_LINKS&gt;https://newsstand.standardmedia.co...</td>\n",
              "    </tr>\n",
              "    <tr>\n",
              "      <th>3233</th>\n",
              "      <td>20200207234500-882</td>\n",
              "      <td>2.020021e+13</td>\n",
              "      <td>standardmedia.co.ke</td>\n",
              "      <td>https://www.standardmedia.co.ke/article/200135...</td>\n",
              "      <td>-4.01</td>\n",
              "      <td>8.02</td>\n",
              "      <td>&lt;PAGE_LINKS&gt;https://newsstand.standardmedia.co...</td>\n",
              "    </tr>\n",
              "    <tr>\n",
              "      <th>3452</th>\n",
              "      <td>20200207234500-1101</td>\n",
              "      <td>2.020021e+13</td>\n",
              "      <td>africanews.com</td>\n",
              "      <td>http://www.africanews.com/2020/02/07/education...</td>\n",
              "      <td>0.74</td>\n",
              "      <td>7.36</td>\n",
              "      <td>&lt;PAGE_AUTHORS&gt;AfricaNews&lt;/PAGE_AUTHORS&gt;&lt;PAGE_T...</td>\n",
              "    </tr>\n",
              "    <tr>\n",
              "      <th>5079</th>\n",
              "      <td>20200209234500-870</td>\n",
              "      <td>2.020021e+13</td>\n",
              "      <td>montrealgazette.com</td>\n",
              "      <td>https://montrealgazette.com/news/national/seco...</td>\n",
              "      <td>-1.20</td>\n",
              "      <td>5.39</td>\n",
              "      <td>&lt;PAGE_ALTURL_AMP&gt;https://montrealgazette.com/n...</td>\n",
              "    </tr>\n",
              "  </tbody>\n",
              "</table>\n",
              "</div>\n",
              "      <button class=\"colab-df-convert\" onclick=\"convertToInteractive('df-ddd73013-1476-4db3-957c-3950154d5951')\"\n",
              "              title=\"Convert this dataframe to an interactive table.\"\n",
              "              style=\"display:none;\">\n",
              "        \n",
              "  <svg xmlns=\"http://www.w3.org/2000/svg\" height=\"24px\"viewBox=\"0 0 24 24\"\n",
              "       width=\"24px\">\n",
              "    <path d=\"M0 0h24v24H0V0z\" fill=\"none\"/>\n",
              "    <path d=\"M18.56 5.44l.94 2.06.94-2.06 2.06-.94-2.06-.94-.94-2.06-.94 2.06-2.06.94zm-11 1L8.5 8.5l.94-2.06 2.06-.94-2.06-.94L8.5 2.5l-.94 2.06-2.06.94zm10 10l.94 2.06.94-2.06 2.06-.94-2.06-.94-.94-2.06-.94 2.06-2.06.94z\"/><path d=\"M17.41 7.96l-1.37-1.37c-.4-.4-.92-.59-1.43-.59-.52 0-1.04.2-1.43.59L10.3 9.45l-7.72 7.72c-.78.78-.78 2.05 0 2.83L4 21.41c.39.39.9.59 1.41.59.51 0 1.02-.2 1.41-.59l7.78-7.78 2.81-2.81c.8-.78.8-2.07 0-2.86zM5.41 20L4 18.59l7.72-7.72 1.47 1.35L5.41 20z\"/>\n",
              "  </svg>\n",
              "      </button>\n",
              "      \n",
              "  <style>\n",
              "    .colab-df-container {\n",
              "      display:flex;\n",
              "      flex-wrap:wrap;\n",
              "      gap: 12px;\n",
              "    }\n",
              "\n",
              "    .colab-df-convert {\n",
              "      background-color: #E8F0FE;\n",
              "      border: none;\n",
              "      border-radius: 50%;\n",
              "      cursor: pointer;\n",
              "      display: none;\n",
              "      fill: #1967D2;\n",
              "      height: 32px;\n",
              "      padding: 0 0 0 0;\n",
              "      width: 32px;\n",
              "    }\n",
              "\n",
              "    .colab-df-convert:hover {\n",
              "      background-color: #E2EBFA;\n",
              "      box-shadow: 0px 1px 2px rgba(60, 64, 67, 0.3), 0px 1px 3px 1px rgba(60, 64, 67, 0.15);\n",
              "      fill: #174EA6;\n",
              "    }\n",
              "\n",
              "    [theme=dark] .colab-df-convert {\n",
              "      background-color: #3B4455;\n",
              "      fill: #D2E3FC;\n",
              "    }\n",
              "\n",
              "    [theme=dark] .colab-df-convert:hover {\n",
              "      background-color: #434B5C;\n",
              "      box-shadow: 0px 1px 3px 1px rgba(0, 0, 0, 0.15);\n",
              "      filter: drop-shadow(0px 1px 2px rgba(0, 0, 0, 0.3));\n",
              "      fill: #FFFFFF;\n",
              "    }\n",
              "  </style>\n",
              "\n",
              "      <script>\n",
              "        const buttonEl =\n",
              "          document.querySelector('#df-ddd73013-1476-4db3-957c-3950154d5951 button.colab-df-convert');\n",
              "        buttonEl.style.display =\n",
              "          google.colab.kernel.accessAllowed ? 'block' : 'none';\n",
              "\n",
              "        async function convertToInteractive(key) {\n",
              "          const element = document.querySelector('#df-ddd73013-1476-4db3-957c-3950154d5951');\n",
              "          const dataTable =\n",
              "            await google.colab.kernel.invokeFunction('convertToInteractive',\n",
              "                                                     [key], {});\n",
              "          if (!dataTable) return;\n",
              "\n",
              "          const docLinkHtml = 'Like what you see? Visit the ' +\n",
              "            '<a target=\"_blank\" href=https://colab.research.google.com/notebooks/data_table.ipynb>data table notebook</a>'\n",
              "            + ' to learn more about interactive tables.';\n",
              "          element.innerHTML = '';\n",
              "          dataTable['output_type'] = 'display_data';\n",
              "          await google.colab.output.renderOutput(dataTable, element);\n",
              "          const docLink = document.createElement('div');\n",
              "          docLink.innerHTML = docLinkHtml;\n",
              "          element.appendChild(docLink);\n",
              "        }\n",
              "      </script>\n",
              "    </div>\n",
              "  </div>\n",
              "  "
            ]
          },
          "metadata": {},
          "execution_count": 101
        }
      ]
    }
  ],
  "metadata": {
    "kernelspec": {
      "display_name": "Python 3",
      "language": "python",
      "name": "python3"
    },
    "language_info": {
      "codemirror_mode": {
        "name": "ipython",
        "version": 3
      },
      "file_extension": ".py",
      "mimetype": "text/x-python",
      "name": "python",
      "nbconvert_exporter": "python",
      "pygments_lexer": "ipython3",
      "version": "3.6.4"
    },
    "colab": {
      "name": "Knowledge Graph Queries.ipynb",
      "provenance": [],
      "include_colab_link": true
    }
  },
  "nbformat": 4,
  "nbformat_minor": 0
}